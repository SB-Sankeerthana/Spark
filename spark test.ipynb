{
 "cells": [
  {
   "cell_type": "code",
   "execution_count": 1,
   "id": "fa593055",
   "metadata": {},
   "outputs": [
    {
     "name": "stdout",
     "output_type": "stream",
     "text": [
      "<class 'pyspark.rdd.RDD'>\n"
     ]
    },
    {
     "name": "stderr",
     "output_type": "stream",
     "text": [
      "                                                                                \r"
     ]
    },
    {
     "name": "stdout",
     "output_type": "stream",
     "text": [
      "[2, 3, 4]\n"
     ]
    }
   ],
   "source": [
    "rdd = sc.parallelize([2,3,4])\n",
    "print(type(rdd))\n",
    "print(rdd.take(5))"
   ]
  },
  {
   "cell_type": "code",
   "execution_count": 2,
   "id": "5b10c2c2",
   "metadata": {},
   "outputs": [],
   "source": [
    "import pyspark"
   ]
  },
  {
   "cell_type": "code",
   "execution_count": 3,
   "id": "af690342",
   "metadata": {},
   "outputs": [],
   "source": [
    "from pyspark.sql import SparkSession"
   ]
  },
  {
   "cell_type": "code",
   "execution_count": 4,
   "id": "89063248",
   "metadata": {},
   "outputs": [
    {
     "name": "stderr",
     "output_type": "stream",
     "text": [
      "24/12/22 17:40:40 WARN SparkSession: Using an existing Spark session; only runtime SQL configurations will take effect.\n"
     ]
    }
   ],
   "source": [
    "spark = SparkSession.builder.appName('Stock Price Analysis').getOrCreate()"
   ]
  },
  {
   "cell_type": "code",
   "execution_count": 5,
   "id": "57ada423",
   "metadata": {},
   "outputs": [],
   "source": [
    "stocks = spark.read.csv(\"StockData\",header=True)"
   ]
  },
  {
   "cell_type": "code",
   "execution_count": 6,
   "id": "ce7d0c5b",
   "metadata": {},
   "outputs": [
    {
     "name": "stdout",
     "output_type": "stream",
     "text": [
      "+------+----------+----------+-------+--------+--------+--------+\n",
      "|Ticker|      Date|Close/Last| Volume|    Open|    High|     Low|\n",
      "+------+----------+----------+-------+--------+--------+--------+\n",
      "| BRK-B|05/31/2023|  $321.08 |6175417|$321.12 |$322.41 |$319.39 |\n",
      "| BRK-B|05/30/2023|  $322.19 |3232461|$321.86 |$322.47 |$319.00 |\n",
      "| BRK-B|05/26/2023|  $320.60 |3229873|$320.44 |$322.63 |$319.67 |\n",
      "| BRK-B|05/25/2023|  $319.02 |4251935|$320.56 |$320.56 |$317.71 |\n",
      "| BRK-B|05/24/2023|  $320.20 |3075393|$322.71 |$323.00 |$319.56 |\n",
      "+------+----------+----------+-------+--------+--------+--------+\n",
      "only showing top 5 rows\n",
      "\n"
     ]
    }
   ],
   "source": [
    "stocks.show(5)"
   ]
  },
  {
   "cell_type": "code",
   "execution_count": 7,
   "id": "57a786df",
   "metadata": {},
   "outputs": [
    {
     "name": "stdout",
     "output_type": "stream",
     "text": [
      "root\n",
      " |-- Ticker: string (nullable = true)\n",
      " |-- Date: string (nullable = true)\n",
      " |-- Close/Last: string (nullable = true)\n",
      " |-- Volume: string (nullable = true)\n",
      " |-- Open: string (nullable = true)\n",
      " |-- High: string (nullable = true)\n",
      " |-- Low: string (nullable = true)\n",
      "\n"
     ]
    }
   ],
   "source": [
    "stocks.printSchema()"
   ]
  },
  {
   "cell_type": "code",
   "execution_count": 8,
   "id": "4aadcb25",
   "metadata": {},
   "outputs": [
    {
     "name": "stdout",
     "output_type": "stream",
     "text": [
      "+------+\n",
      "|Ticker|\n",
      "+------+\n",
      "| BRK-B|\n",
      "| BRK-B|\n",
      "| BRK-B|\n",
      "+------+\n",
      "only showing top 3 rows\n",
      "\n"
     ]
    }
   ],
   "source": [
    "stocks.select(\"Ticker\").show(3)"
   ]
  },
  {
   "cell_type": "code",
   "execution_count": 9,
   "id": "8b75866b",
   "metadata": {},
   "outputs": [
    {
     "name": "stdout",
     "output_type": "stream",
     "text": [
      "+------+--------+--------+\n",
      "|Ticker|    open|    high|\n",
      "+------+--------+--------+\n",
      "| BRK-B|$321.12 |$322.41 |\n",
      "| BRK-B|$321.86 |$322.47 |\n",
      "| BRK-B|$320.44 |$322.63 |\n",
      "+------+--------+--------+\n",
      "only showing top 3 rows\n",
      "\n"
     ]
    }
   ],
   "source": [
    "stocks.select([\"Ticker\",\"open\",\"high\"]).show(3)"
   ]
  },
  {
   "cell_type": "code",
   "execution_count": 10,
   "id": "617d5171",
   "metadata": {},
   "outputs": [
    {
     "name": "stdout",
     "output_type": "stream",
     "text": [
      "+------+----------+----------+--------+--------+--------+--------+\n",
      "|Ticker|      Date|Close/Last|  Volume|    Open|    High|     Low|\n",
      "+------+----------+----------+--------+--------+--------+--------+\n",
      "|  MSFT|05/31/2023|  $328.39 |45950550|$332.29 |$335.94 |$327.33 |\n",
      "|  MSFT|05/30/2023|  $331.21 |29503070|$335.23 |$335.74 |$330.52 |\n",
      "|  MSFT|05/26/2023|  $332.89 |36630630|$324.02 |$333.40 |$323.88 |\n",
      "+------+----------+----------+--------+--------+--------+--------+\n",
      "only showing top 3 rows\n",
      "\n"
     ]
    }
   ],
   "source": [
    "stocks.filter(stocks.Ticker == \"MSFT\").show(3)"
   ]
  },
  {
   "cell_type": "code",
   "execution_count": 11,
   "id": "dde0c6ca",
   "metadata": {},
   "outputs": [
    {
     "name": "stdout",
     "output_type": "stream",
     "text": [
      "+------+----------+----------+--------+--------+--------+--------+\n",
      "|Ticker|      Date|Close/Last|  Volume|    Open|    High|     Low|\n",
      "+------+----------+----------+--------+--------+--------+--------+\n",
      "|  MSFT|05/31/2023|  $328.39 |45950550|$332.29 |$335.94 |$327.33 |\n",
      "|  MSFT|04/27/2023|  $304.83 |46462640|$295.97 |$305.20 |$295.25 |\n",
      "|  MSFT|04/26/2023|  $295.37 |64599180|$296.70 |$299.57 |$292.73 |\n",
      "|  MSFT|03/17/2023|  $279.43 |69527370|$278.26 |$283.33 |$276.32 |\n",
      "|  MSFT|03/16/2023|  $276.20 |54832140|$265.21 |$276.56 |$263.28 |\n",
      "|  MSFT|03/15/2023|  $265.44 |46028050|$259.98 |$266.48 |$259.21 |\n",
      "|  MSFT|02/08/2023|  $266.73 |54686050|$273.20 |$276.76 |$266.21 |\n",
      "|  MSFT|02/07/2023|  $267.56 |50841370|$260.53 |$268.78 |$260.08 |\n",
      "|  MSFT|01/25/2023|  $240.61 |66526640|$234.48 |$243.30 |$230.90 |\n",
      "|  MSFT|01/04/2023|  $229.10 |50623390|$232.28 |$232.87 |$225.96 |\n",
      "+------+----------+----------+--------+--------+--------+--------+\n",
      "only showing top 10 rows\n",
      "\n"
     ]
    }
   ],
   "source": [
    "stocks.filter((stocks.Ticker == \"MSFT\") & (stocks.Volume >= 45950550)).show(10)"
   ]
  },
  {
   "cell_type": "code",
   "execution_count": 12,
   "id": "8c2d4c3c",
   "metadata": {},
   "outputs": [
    {
     "name": "stderr",
     "output_type": "stream",
     "text": [
      "\r\n",
      "[Stage 10:>                                                         (0 + 4) / 4]\r\n",
      "\r\n",
      "                                                                                \r"
     ]
    },
    {
     "name": "stdout",
     "output_type": "stream",
     "text": [
      "+------+----------+----------+--------+--------+--------+--------+\n",
      "|Ticker|      Date|Close/Last|  Volume|    Open|    High|     Low|\n",
      "+------+----------+----------+--------+--------+--------+--------+\n",
      "|  MSFT|05/31/2023|  $328.39 |45950550|$332.29 |$335.94 |$327.33 |\n",
      "|     V|05/31/2023|  $221.03 |20460620|$219.96 |$221.53 |$216.14 |\n",
      "+------+----------+----------+--------+--------+--------+--------+\n",
      "\n"
     ]
    }
   ],
   "source": [
    "stocks.filter(((stocks.Ticker==\"MSFT\") | (stocks.Ticker==\"V\")) & (stocks.Date==\"05/31/2023\") ).show(20)"
   ]
  },
  {
   "cell_type": "code",
   "execution_count": 13,
   "id": "9fd05c60",
   "metadata": {},
   "outputs": [
    {
     "name": "stderr",
     "output_type": "stream",
     "text": [
      "\r\n",
      "[Stage 13:=============================>                            (2 + 2) / 4]\r\n",
      "\r\n",
      "                                                                                \r"
     ]
    },
    {
     "name": "stdout",
     "output_type": "stream",
     "text": [
      "+------+----------+----------+---------+--------+--------+--------+\n",
      "|Ticker|      Date|Close/Last|   Volume|    Open|    High|     Low|\n",
      "+------+----------+----------+---------+--------+--------+--------+\n",
      "|  MSFT|05/31/2023|  $328.39 | 45950550|$332.29 |$335.94 |$327.33 |\n",
      "|  TSLA|05/31/2023|  $203.93 |150711700|$199.78 |$203.95 |$195.12 |\n",
      "|     V|05/31/2023|  $221.03 | 20460620|$219.96 |$221.53 |$216.14 |\n",
      "|   SPY|05/31/2023|    417.85|110811800|  418.28|  419.22|  416.22|\n",
      "|   QQQ|05/31/2023|    347.99| 65105380|  348.37|   350.6|  346.51|\n",
      "+------+----------+----------+---------+--------+--------+--------+\n",
      "\n"
     ]
    }
   ],
   "source": [
    "stocks.filter((stocks.Ticker.isin([\"MSFT\",\"QQQ\",\"SPY\",\"V\",\"TSLA\"])) & (stocks.Date == \"05/31/2023\") ).show(10)"
   ]
  },
  {
   "cell_type": "code",
   "execution_count": 14,
   "id": "321f8d3a",
   "metadata": {},
   "outputs": [],
   "source": [
    "from pyspark.sql.functions import udf\n",
    "from pyspark.sql.types import DateType"
   ]
  },
  {
   "cell_type": "code",
   "execution_count": 15,
   "id": "46a44ec5",
   "metadata": {},
   "outputs": [],
   "source": [
    "from datetime import datetime"
   ]
  },
  {
   "cell_type": "code",
   "execution_count": 16,
   "id": "0a8af7d5",
   "metadata": {},
   "outputs": [],
   "source": [
    "date_parser = udf(lambda date: datetime.strptime(date,\"%m/%d/%Y\"), DateType())"
   ]
  },
  {
   "cell_type": "code",
   "execution_count": 17,
   "id": "56bfc372",
   "metadata": {},
   "outputs": [],
   "source": [
    "stocks = stocks.withColumn(\"Parsed_Date\",date_parser(stocks.Date))"
   ]
  },
  {
   "cell_type": "code",
   "execution_count": 18,
   "id": "3b7714e4",
   "metadata": {},
   "outputs": [
    {
     "name": "stdout",
     "output_type": "stream",
     "text": [
      "root\n",
      " |-- Ticker: string (nullable = true)\n",
      " |-- Date: string (nullable = true)\n",
      " |-- Close/Last: string (nullable = true)\n",
      " |-- Volume: string (nullable = true)\n",
      " |-- Open: string (nullable = true)\n",
      " |-- High: string (nullable = true)\n",
      " |-- Low: string (nullable = true)\n",
      " |-- Parsed_Date: date (nullable = true)\n",
      "\n"
     ]
    }
   ],
   "source": [
    "stocks.printSchema()"
   ]
  },
  {
   "cell_type": "code",
   "execution_count": 19,
   "id": "9af1fee1",
   "metadata": {},
   "outputs": [],
   "source": [
    "def parser(value):\n",
    "    if isinstance(value,str):\n",
    "        return float(value.strip(\"$\"))\n",
    "    elif isinstance(value,int) or isinstance(value,float):\n",
    "        return value\n",
    "    else:\n",
    "        return None"
   ]
  },
  {
   "cell_type": "code",
   "execution_count": 20,
   "id": "72713660",
   "metadata": {},
   "outputs": [],
   "source": [
    "from pyspark.sql.types import FloatType"
   ]
  },
  {
   "cell_type": "code",
   "execution_count": 21,
   "id": "fea4760b",
   "metadata": {},
   "outputs": [],
   "source": [
    "number_parser = udf(parser, FloatType())"
   ]
  },
  {
   "cell_type": "code",
   "execution_count": 22,
   "id": "d077b1c0",
   "metadata": {},
   "outputs": [],
   "source": [
    "stocks = stocks.withColumn(\"Open\",number_parser(stocks.Open)).withColumn(\"Close/Last\", number_parser(stocks[\"Close/Last\"])).withColumn(\"High\", number_parser(stocks.High)).withColumn(\"Low\", number_parser(stocks.Low))"
   ]
  },
  {
   "cell_type": "code",
   "execution_count": 23,
   "id": "c969fb6a",
   "metadata": {},
   "outputs": [],
   "source": [
    "from pyspark.sql.types import IntegerType\n",
    "parse_int = udf(lambda value: int(value), IntegerType())"
   ]
  },
  {
   "cell_type": "code",
   "execution_count": 24,
   "id": "e8696ad2",
   "metadata": {},
   "outputs": [],
   "source": [
    "stocks = stocks.withColumn(\"Volume\",parse_int(stocks.Volume))"
   ]
  },
  {
   "cell_type": "code",
   "execution_count": 25,
   "id": "93fab9a6",
   "metadata": {},
   "outputs": [],
   "source": [
    "cleaned_stocks = stocks.select([\"Ticker\",\"Parsed_Date\",\"Close/Last\",\"Volume\",\"Open\",\"High\",\"Low\"])"
   ]
  },
  {
   "cell_type": "code",
   "execution_count": 26,
   "id": "e95dd2ef",
   "metadata": {},
   "outputs": [
    {
     "name": "stdout",
     "output_type": "stream",
     "text": [
      "root\n",
      " |-- Ticker: string (nullable = true)\n",
      " |-- Parsed_Date: date (nullable = true)\n",
      " |-- Close/Last: float (nullable = true)\n",
      " |-- Volume: integer (nullable = true)\n",
      " |-- Open: float (nullable = true)\n",
      " |-- High: float (nullable = true)\n",
      " |-- Low: float (nullable = true)\n",
      "\n"
     ]
    }
   ],
   "source": [
    "cleaned_stocks.printSchema()"
   ]
  },
  {
   "cell_type": "code",
   "execution_count": 27,
   "id": "6aa42dcd",
   "metadata": {},
   "outputs": [],
   "source": [
    "cleaned_stocks = cleaned_stocks.withColumnRenamed(\"Close/Last\",\"Close\")"
   ]
  },
  {
   "cell_type": "code",
   "execution_count": 28,
   "id": "a3969fd1",
   "metadata": {},
   "outputs": [
    {
     "data": {
      "text/plain": [
       "DataFrame[Ticker: string, Parsed_Date: date, Close: float, Volume: int, Open: float, High: float, Low: float]"
      ]
     },
     "execution_count": 28,
     "metadata": {},
     "output_type": "execute_result"
    }
   ],
   "source": [
    "cleaned_stocks"
   ]
  },
  {
   "cell_type": "code",
   "execution_count": 29,
   "id": "859192c4",
   "metadata": {},
   "outputs": [],
   "source": [
    "cleaned_stocks = cleaned_stocks.withColumnRenamed(\"Parsed_Date\",\"Date\")"
   ]
  },
  {
   "cell_type": "code",
   "execution_count": 30,
   "id": "4b04d6e2",
   "metadata": {},
   "outputs": [
    {
     "name": "stderr",
     "output_type": "stream",
     "text": [
      "\r\n",
      "[Stage 15:>                                                         (0 + 1) / 1]\r"
     ]
    },
    {
     "name": "stdout",
     "output_type": "stream",
     "text": [
      "+------+----------+------+-------+------+------+------+\n",
      "|Ticker|      Date| Close| Volume|  Open|  High|   Low|\n",
      "+------+----------+------+-------+------+------+------+\n",
      "| BRK-B|2023-05-31|321.08|6175417|321.12|322.41|319.39|\n",
      "| BRK-B|2023-05-30|322.19|3232461|321.86|322.47| 319.0|\n",
      "| BRK-B|2023-05-26| 320.6|3229873|320.44|322.63|319.67|\n",
      "| BRK-B|2023-05-25|319.02|4251935|320.56|320.56|317.71|\n",
      "| BRK-B|2023-05-24| 320.2|3075393|322.71| 323.0|319.56|\n",
      "+------+----------+------+-------+------+------+------+\n",
      "only showing top 5 rows\n",
      "\n"
     ]
    },
    {
     "name": "stderr",
     "output_type": "stream",
     "text": [
      "\r\n",
      "                                                                                \r"
     ]
    }
   ],
   "source": [
    "cleaned_stocks.show(5)"
   ]
  },
  {
   "cell_type": "code",
   "execution_count": 31,
   "id": "ba91f6df",
   "metadata": {},
   "outputs": [],
   "source": [
    "stocks = stocks.drop(\"Date\")"
   ]
  },
  {
   "cell_type": "code",
   "execution_count": 32,
   "id": "1d9c7b6e",
   "metadata": {},
   "outputs": [
    {
     "name": "stdout",
     "output_type": "stream",
     "text": [
      "+------+----------+-------+------+------+------+-----------+\n",
      "|Ticker|Close/Last| Volume|  Open|  High|   Low|Parsed_Date|\n",
      "+------+----------+-------+------+------+------+-----------+\n",
      "| BRK-B|    321.08|6175417|321.12|322.41|319.39| 2023-05-31|\n",
      "| BRK-B|    322.19|3232461|321.86|322.47| 319.0| 2023-05-30|\n",
      "| BRK-B|     320.6|3229873|320.44|322.63|319.67| 2023-05-26|\n",
      "| BRK-B|    319.02|4251935|320.56|320.56|317.71| 2023-05-25|\n",
      "| BRK-B|     320.2|3075393|322.71| 323.0|319.56| 2023-05-24|\n",
      "+------+----------+-------+------+------+------+-----------+\n",
      "only showing top 5 rows\n",
      "\n"
     ]
    }
   ],
   "source": [
    "stocks.show(5)"
   ]
  },
  {
   "cell_type": "code",
   "execution_count": 33,
   "id": "f4690b40",
   "metadata": {},
   "outputs": [
    {
     "name": "stderr",
     "output_type": "stream",
     "text": [
      "24/12/22 17:42:00 WARN package: Truncated the string representation of a plan since it was too large. This behavior can be adjusted by setting 'spark.sql.debug.maxToStringFields'.\n",
      "[Stage 17:>                                                         (0 + 6) / 6]\r"
     ]
    },
    {
     "name": "stdout",
     "output_type": "stream",
     "text": [
      "+-------+--------------------+------------------+------------------+------------------+------------------+\n",
      "|summary|              Volume|              Open|              High|               Low|             Close|\n",
      "+-------+--------------------+------------------+------------------+------------------+------------------+\n",
      "|  count|               15108|             15108|             15108|             15108|             15108|\n",
      "|   mean|5.1868408793685466E7|180.09656566181036| 182.1253348687101| 177.9982781513109| 180.1256089860054|\n",
      "| stddev| 5.496484129953463E7|101.16125813324396|101.96625521621728|100.26590135955209|101.14891782168517|\n",
      "|    min|              961133|             12.07|             12.45|              11.8|             11.93|\n",
      "|    max|           914080943|            479.22|            479.98|            476.06|            477.71|\n",
      "+-------+--------------------+------------------+------------------+------------------+------------------+\n",
      "\n"
     ]
    },
    {
     "name": "stderr",
     "output_type": "stream",
     "text": [
      "\r\n",
      "                                                                                \r"
     ]
    }
   ],
   "source": [
    "cleaned_stocks.describe([\"Volume\",\"Open\",\"High\",\"Low\",\"Close\"]).show()"
   ]
  },
  {
   "cell_type": "code",
   "execution_count": 34,
   "id": "6a7409cd",
   "metadata": {},
   "outputs": [],
   "source": [
    "from pyspark.sql import functions as F"
   ]
  },
  {
   "cell_type": "code",
   "execution_count": 35,
   "id": "a75cb38a",
   "metadata": {},
   "outputs": [
    {
     "name": "stderr",
     "output_type": "stream",
     "text": [
      "\r\n",
      "[Stage 20:>                                                         (0 + 6) / 6]\r"
     ]
    },
    {
     "name": "stdout",
     "output_type": "stream",
     "text": [
      "+------+------+\n",
      "|Ticker|   Max|\n",
      "+------+------+\n",
      "|   SPY|479.22|\n",
      "|  TSLA|411.47|\n",
      "|  NVDA|405.95|\n",
      "|   QQQ|405.57|\n",
      "|  META|381.68|\n",
      "| BRK-B|361.39|\n",
      "|  MSFT|344.62|\n",
      "|     V|250.05|\n",
      "|  AMZN| 187.2|\n",
      "|  AAPL|182.63|\n",
      "| GOOGL|151.25|\n",
      "|   TSM|141.61|\n",
      "+------+------+\n",
      "\n"
     ]
    },
    {
     "name": "stderr",
     "output_type": "stream",
     "text": [
      "\r\n",
      "                                                                                \r"
     ]
    }
   ],
   "source": [
    "cleaned_stocks.groupBy(\"Ticker\").agg(F.max(\"Open\").alias(\"Max\")).orderBy((\"Max\"),ascending=False).show(20)"
   ]
  },
  {
   "cell_type": "code",
   "execution_count": 36,
   "id": "f32ac143",
   "metadata": {},
   "outputs": [
    {
     "name": "stderr",
     "output_type": "stream",
     "text": [
      "\r\n",
      "[Stage 23:>                                                         (0 + 6) / 6]\r"
     ]
    },
    {
     "name": "stdout",
     "output_type": "stream",
     "text": [
      "+------+--------+------------+\n",
      "|Ticker|Max_Open| TotalVolume|\n",
      "+------+--------+------------+\n",
      "| BRK-B|  361.39|  5862401321|\n",
      "|     V|  250.05| 10410997871|\n",
      "|   TSM|  141.61| 12506470104|\n",
      "|  META|  381.68| 30148848043|\n",
      "|  MSFT|  344.62| 37976660472|\n",
      "| GOOGL|  151.25| 43956560981|\n",
      "|  NVDA|  405.95| 58787218324|\n",
      "|   QQQ|  405.57| 60437153773|\n",
      "|  AMZN|   187.2|104503287430|\n",
      "|   SPY|  479.22|107925285300|\n",
      "|  AAPL|  182.63|139310061360|\n",
      "|  TSLA|  411.47|171802975076|\n",
      "+------+--------+------------+\n",
      "\n"
     ]
    },
    {
     "name": "stderr",
     "output_type": "stream",
     "text": [
      "\r\n",
      "                                                                                \r"
     ]
    }
   ],
   "source": [
    "cleaned_stocks.groupBy(\"Ticker\").agg(F.max(\"Open\").alias(\"Max_Open\"),F.sum(\"Volume\").alias(\"TotalVolume\")).orderBy(\"TotalVolume\",acsending=False).show(20)"
   ]
  },
  {
   "cell_type": "code",
   "execution_count": 37,
   "id": "f5662182",
   "metadata": {},
   "outputs": [],
   "source": [
    "cleaned_stocks = cleaned_stocks.withColumn(\"Year\",F.substring(\"Date\",0,4))"
   ]
  },
  {
   "cell_type": "code",
   "execution_count": 38,
   "id": "30ec6037",
   "metadata": {},
   "outputs": [
    {
     "name": "stdout",
     "output_type": "stream",
     "text": [
      "+------+----------+------+-------+------+------+------+----+\n",
      "|Ticker|      Date| Close| Volume|  Open|  High|   Low|Year|\n",
      "+------+----------+------+-------+------+------+------+----+\n",
      "| BRK-B|2023-05-31|321.08|6175417|321.12|322.41|319.39|2023|\n",
      "| BRK-B|2023-05-30|322.19|3232461|321.86|322.47| 319.0|2023|\n",
      "| BRK-B|2023-05-26| 320.6|3229873|320.44|322.63|319.67|2023|\n",
      "| BRK-B|2023-05-25|319.02|4251935|320.56|320.56|317.71|2023|\n",
      "| BRK-B|2023-05-24| 320.2|3075393|322.71| 323.0|319.56|2023|\n",
      "| BRK-B|2023-05-23|323.11|4031342|328.19|329.27|322.97|2023|\n",
      "| BRK-B|2023-05-22|329.13|2763422|330.75|331.49|328.35|2023|\n",
      "| BRK-B|2023-05-19|330.39|4323538| 331.0|333.94|329.12|2023|\n",
      "| BRK-B|2023-05-18|329.76|2808329|326.87|329.98|325.85|2023|\n",
      "| BRK-B|2023-05-17|327.39|3047626|325.02|328.26|324.82|2023|\n",
      "+------+----------+------+-------+------+------+------+----+\n",
      "only showing top 10 rows\n",
      "\n"
     ]
    }
   ],
   "source": [
    "cleaned_stocks.show(10)"
   ]
  },
  {
   "cell_type": "code",
   "execution_count": 39,
   "id": "bde592b0",
   "metadata": {},
   "outputs": [
    {
     "name": "stderr",
     "output_type": "stream",
     "text": [
      "\r\n",
      "[Stage 27:>                                                         (0 + 6) / 6]\r"
     ]
    },
    {
     "name": "stdout",
     "output_type": "stream",
     "text": [
      "+------+----+---------+\n",
      "|Ticker|Year|max(Open)|\n",
      "+------+----+---------+\n",
      "| BRK-B|2018|    224.0|\n",
      "| BRK-B|2023|    331.0|\n",
      "| BRK-B|2022|   361.39|\n",
      "|  MSFT|2023|   335.23|\n",
      "|  MSFT|2021|   344.62|\n",
      "| BRK-B|2021|   300.88|\n",
      "|  MSFT|2018|   115.42|\n",
      "|  MSFT|2022|   335.35|\n",
      "| BRK-B|2019|   227.27|\n",
      "| BRK-B|2020|   233.92|\n",
      "+------+----+---------+\n",
      "only showing top 10 rows\n",
      "\n"
     ]
    },
    {
     "name": "stderr",
     "output_type": "stream",
     "text": [
      "\r\n",
      "                                                                                \r"
     ]
    }
   ],
   "source": [
    "cleaned_stocks.groupBy(\"Ticker\",\"Year\").max(\"Open\").show(10)"
   ]
  },
  {
   "cell_type": "code",
   "execution_count": 40,
   "id": "30d53813",
   "metadata": {},
   "outputs": [
    {
     "name": "stdout",
     "output_type": "stream",
     "text": [
      "root\n",
      " |-- Ticker: string (nullable = true)\n",
      " |-- Date: date (nullable = true)\n",
      " |-- Close: float (nullable = true)\n",
      " |-- Volume: integer (nullable = true)\n",
      " |-- Open: float (nullable = true)\n",
      " |-- High: float (nullable = true)\n",
      " |-- Low: float (nullable = true)\n",
      " |-- Year: string (nullable = true)\n",
      "\n"
     ]
    }
   ],
   "source": [
    "cleaned_stocks.printSchema()"
   ]
  },
  {
   "cell_type": "code",
   "execution_count": 41,
   "id": "fb71b1e0",
   "metadata": {},
   "outputs": [],
   "source": [
    "cleaned_stocks = cleaned_stocks.withColumn(\"Year\", F.year(cleaned_stocks.Date))"
   ]
  },
  {
   "cell_type": "code",
   "execution_count": 42,
   "id": "1d24e1dc",
   "metadata": {},
   "outputs": [
    {
     "name": "stdout",
     "output_type": "stream",
     "text": [
      "root\n",
      " |-- Ticker: string (nullable = true)\n",
      " |-- Date: date (nullable = true)\n",
      " |-- Close: float (nullable = true)\n",
      " |-- Volume: integer (nullable = true)\n",
      " |-- Open: float (nullable = true)\n",
      " |-- High: float (nullable = true)\n",
      " |-- Low: float (nullable = true)\n",
      " |-- Year: integer (nullable = true)\n",
      "\n"
     ]
    }
   ],
   "source": [
    "cleaned_stocks.printSchema()"
   ]
  },
  {
   "cell_type": "code",
   "execution_count": 43,
   "id": "f13c34b6",
   "metadata": {},
   "outputs": [],
   "source": [
    "cleaned_stocks = (cleaned_stocks.withColumn(\"Month\",F.month(\"Date\"))\n",
    "               .withColumn(\"Day\",F.dayofmonth(\"Date\"))\n",
    "               .withColumn(\"Week\",F.weekofyear(\"Date\")))"
   ]
  },
  {
   "cell_type": "code",
   "execution_count": 44,
   "id": "11f2489b",
   "metadata": {},
   "outputs": [
    {
     "name": "stdout",
     "output_type": "stream",
     "text": [
      "+------+----------+------+-------+------+------+------+----+-----+---+----+\n",
      "|Ticker|      Date| Close| Volume|  Open|  High|   Low|Year|Month|Day|Week|\n",
      "+------+----------+------+-------+------+------+------+----+-----+---+----+\n",
      "| BRK-B|2023-05-31|321.08|6175417|321.12|322.41|319.39|2023|    5| 31|  22|\n",
      "| BRK-B|2023-05-30|322.19|3232461|321.86|322.47| 319.0|2023|    5| 30|  22|\n",
      "| BRK-B|2023-05-26| 320.6|3229873|320.44|322.63|319.67|2023|    5| 26|  21|\n",
      "| BRK-B|2023-05-25|319.02|4251935|320.56|320.56|317.71|2023|    5| 25|  21|\n",
      "| BRK-B|2023-05-24| 320.2|3075393|322.71| 323.0|319.56|2023|    5| 24|  21|\n",
      "+------+----------+------+-------+------+------+------+----+-----+---+----+\n",
      "only showing top 5 rows\n",
      "\n"
     ]
    }
   ],
   "source": [
    "cleaned_stocks.show(5)"
   ]
  },
  {
   "cell_type": "code",
   "execution_count": 45,
   "id": "22559241",
   "metadata": {},
   "outputs": [
    {
     "name": "stderr",
     "output_type": "stream",
     "text": [
      "\r\n",
      "[Stage 31:>                                                         (0 + 6) / 6]\r"
     ]
    },
    {
     "name": "stdout",
     "output_type": "stream",
     "text": [
      "+------+-----------------+-----------------+\n",
      "|Ticker|Max_open_for_2023|Min_open_for_2023|\n",
      "+------+-----------------+-----------------+\n",
      "|  AAPL|           177.33|           126.01|\n",
      "|  AMZN|           122.37|            83.03|\n",
      "| BRK-B|            331.0|           294.68|\n",
      "| GOOGL|           125.64|            85.98|\n",
      "|  META|           265.25|           122.82|\n",
      "|  MSFT|           335.23|            223.0|\n",
      "|  NVDA|           405.95|           144.74|\n",
      "|   QQQ|           352.71|           263.35|\n",
      "|   SPY|           422.03|           381.72|\n",
      "|  TSLA|           211.76|            103.0|\n",
      "|   TSM|           103.79|            74.99|\n",
      "|     V|            235.0|           209.28|\n",
      "+------+-----------------+-----------------+\n",
      "\n"
     ]
    },
    {
     "name": "stderr",
     "output_type": "stream",
     "text": [
      "\r\n",
      "                                                                                \r"
     ]
    }
   ],
   "source": [
    "cleaned_stocks.filter(cleaned_stocks.Year == \"2023\").groupBy(\"Ticker\").agg(F.max(\"Open\").alias(\"Max_open_for_2023\"),F.min(\"Open\").alias(\"Min_open_for_2023\")).orderBy(\"Ticker\").show(20)"
   ]
  },
  {
   "cell_type": "code",
   "execution_count": 46,
   "id": "3fce5afe",
   "metadata": {},
   "outputs": [],
   "source": [
    "Yearly = cleaned_stocks.groupBy(\"Ticker\",\"Year\").agg(F.max(\"Open\").alias(\"YearlyHigh\"), F.min(\"Open\").alias(\"YearlyLow\"))"
   ]
  },
  {
   "cell_type": "code",
   "execution_count": 47,
   "id": "182b6f9c",
   "metadata": {},
   "outputs": [
    {
     "name": "stderr",
     "output_type": "stream",
     "text": [
      "\r\n",
      "[Stage 34:>                                                         (0 + 6) / 6]\r"
     ]
    },
    {
     "name": "stdout",
     "output_type": "stream",
     "text": [
      "+------+----+----------+---------+\n",
      "|Ticker|Year|YearlyHigh|YearlyLow|\n",
      "+------+----+----------+---------+\n",
      "| BRK-B|2023|     331.0|   294.68|\n",
      "|  MSFT|2019|    159.45|    99.55|\n",
      "|  MSFT|2021|    344.62|   212.17|\n",
      "| BRK-B|2018|     224.0|   185.43|\n",
      "|  MSFT|2020|    229.27|   137.01|\n",
      "| BRK-B|2021|    300.88|   228.21|\n",
      "|  MSFT|2018|    115.42|    95.14|\n",
      "| BRK-B|2020|    233.92|    165.3|\n",
      "|  MSFT|2023|    335.23|    223.0|\n",
      "| BRK-B|2019|    227.27|   194.78|\n",
      "|  MSFT|2022|    335.35|   217.55|\n",
      "| BRK-B|2022|    361.39|   260.58|\n",
      "|  META|2020|    300.16|   139.75|\n",
      "|  META|2021|    381.68|    247.9|\n",
      "|  TSLA|2019|      29.0|    12.07|\n",
      "|  META|2018|    215.72|    123.1|\n",
      "|  TSLA|2021|    411.47|   184.18|\n",
      "|  TSLA|2018|      25.0|    17.02|\n",
      "|  META|2022|    339.95|    90.08|\n",
      "|  META|2019|    208.67|   128.99|\n",
      "+------+----+----------+---------+\n",
      "only showing top 20 rows\n",
      "\n"
     ]
    },
    {
     "name": "stderr",
     "output_type": "stream",
     "text": [
      "\r\n",
      "                                                                                \r"
     ]
    }
   ],
   "source": [
    "Yearly.show()"
   ]
  },
  {
   "cell_type": "code",
   "execution_count": 48,
   "id": "d254ac49",
   "metadata": {},
   "outputs": [],
   "source": [
    "Monthly = cleaned_stocks.groupBy(\"Ticker\",\"Year\",\"Month\").agg(F.max(\"Open\").alias(\"MonthlyHigh\"),F.min(\"Open\").alias(\"MonthlyLow\"))"
   ]
  },
  {
   "cell_type": "code",
   "execution_count": 49,
   "id": "728fc8ad",
   "metadata": {},
   "outputs": [
    {
     "name": "stderr",
     "output_type": "stream",
     "text": [
      "\r\n",
      "[Stage 37:>                                                         (0 + 6) / 6]\r"
     ]
    },
    {
     "name": "stdout",
     "output_type": "stream",
     "text": [
      "+------+----+-----+-----------+----------+\n",
      "|Ticker|Year|Month|MonthlyHigh|MonthlyLow|\n",
      "+------+----+-----+-----------+----------+\n",
      "| BRK-B|2022|   10|     297.98|    260.58|\n",
      "| BRK-B|2018|    9|     222.13|    209.21|\n",
      "|  MSFT|2022|    6|      275.2|    243.86|\n",
      "|  MSFT|2021|    2|     245.03|    230.01|\n",
      "|  MSFT|2020|    1|     174.05|    157.08|\n",
      "| BRK-B|2021|   10|     290.85|    273.02|\n",
      "| BRK-B|2020|   10|     216.74|    200.03|\n",
      "|  MSFT|2019|    6|     137.45|    121.28|\n",
      "|  MSFT|2022|   10|     247.93|    219.85|\n",
      "| BRK-B|2019|    9|     212.24|    201.19|\n",
      "| BRK-B|2021|    6|     292.91|     275.0|\n",
      "|  MSFT|2020|   12|     226.31|    210.05|\n",
      "|  MSFT|2019|   10|      144.9|    134.95|\n",
      "| BRK-B|2022|   11|     317.52|    286.02|\n",
      "| BRK-B|2022|    7|     297.42|     272.5|\n",
      "|  MSFT|2023|    2|      273.8|     248.0|\n",
      "|  MSFT|2021|    1|      238.0|    212.17|\n",
      "| BRK-B|2022|    6|      316.0|    267.38|\n",
      "| BRK-B|2020|    8|     218.62|    197.28|\n",
      "|  MSFT|2022|   12|     261.69|    235.65|\n",
      "+------+----+-----+-----------+----------+\n",
      "only showing top 20 rows\n",
      "\n"
     ]
    },
    {
     "name": "stderr",
     "output_type": "stream",
     "text": [
      "\r\n",
      "                                                                                \r"
     ]
    }
   ],
   "source": [
    "Monthly.show()"
   ]
  },
  {
   "cell_type": "code",
   "execution_count": 50,
   "id": "42c5c2b1",
   "metadata": {},
   "outputs": [],
   "source": [
    "Weekly = cleaned_stocks.groupBy(\"Ticker\",\"Year\",\"Week\").agg(F.max(\"Open\").alias(\"WeeklyHigh\"),F.min(\"Open\").alias(\"WeeklyLow\"))"
   ]
  },
  {
   "cell_type": "code",
   "execution_count": 51,
   "id": "18a11b28",
   "metadata": {},
   "outputs": [
    {
     "name": "stderr",
     "output_type": "stream",
     "text": [
      "\r\n",
      "[Stage 40:>                                                         (0 + 6) / 6]\r"
     ]
    },
    {
     "name": "stdout",
     "output_type": "stream",
     "text": [
      "+------+----+----+----------+---------+\n",
      "|Ticker|Year|Week|WeeklyHigh|WeeklyLow|\n",
      "+------+----+----+----------+---------+\n",
      "| BRK-B|2022|  14|     352.0|   341.17|\n",
      "| BRK-B|2022|  10|    326.59|   322.49|\n",
      "| BRK-B|2021|  14|    264.22|   260.02|\n",
      "| BRK-B|2018|  48|    217.23|    209.3|\n",
      "|  MSFT|2022|   6|    309.87|   301.25|\n",
      "|  MSFT|2021|   2|    218.47|   213.52|\n",
      "| BRK-B|2020|  19|    180.05|    173.4|\n",
      "|  MSFT|2020|   1|    158.78|   158.32|\n",
      "| BRK-B|2021|  32|    291.81|   287.01|\n",
      "| BRK-B|2021|  10|    264.22|    255.6|\n",
      "| BRK-B|2020|  10|    217.39|   203.48|\n",
      "| BRK-B|2020|  28|     183.1|   178.26|\n",
      "|  MSFT|2021|  41|    302.34|   292.92|\n",
      "|  MSFT|2020|  19|    184.98|   174.49|\n",
      "| BRK-B|2019|  30|    208.37|   205.34|\n",
      "|  MSFT|2019|  43|    139.39|   136.88|\n",
      "|  MSFT|2021|  44|    338.51|   330.31|\n",
      "|  MSFT|2019|   6|     107.0|   102.87|\n",
      "|  MSFT|2022|  10|    288.53|    277.8|\n",
      "| BRK-B|2019|  23|    204.95|   197.62|\n",
      "+------+----+----+----------+---------+\n",
      "only showing top 20 rows\n",
      "\n"
     ]
    },
    {
     "name": "stderr",
     "output_type": "stream",
     "text": [
      "\r\n",
      "                                                                                \r"
     ]
    }
   ],
   "source": [
    "Weekly.show()"
   ]
  },
  {
   "cell_type": "code",
   "execution_count": 52,
   "id": "ea83c973",
   "metadata": {},
   "outputs": [
    {
     "name": "stdout",
     "output_type": "stream",
     "text": [
      "+------+----+----+----------+---------+------+\n",
      "|Ticker|Year|Week|WeeklyHigh|WeeklyLow|Spread|\n",
      "+------+----+----+----------+---------+------+\n",
      "| BRK-B|2022|  14|     352.0|   341.17| 10.83|\n",
      "| BRK-B|2022|  10|    326.59|   322.49|   4.1|\n",
      "| BRK-B|2021|  14|    264.22|   260.02|   4.2|\n",
      "| BRK-B|2018|  48|    217.23|    209.3|  7.93|\n",
      "|  MSFT|2022|   6|    309.87|   301.25|  8.62|\n",
      "|  MSFT|2021|   2|    218.47|   213.52|  4.95|\n",
      "| BRK-B|2020|  19|    180.05|    173.4|  6.65|\n",
      "|  MSFT|2020|   1|    158.78|   158.32|  0.46|\n",
      "| BRK-B|2021|  32|    291.81|   287.01|   4.8|\n",
      "| BRK-B|2021|  10|    264.22|    255.6|  8.62|\n",
      "| BRK-B|2020|  10|    217.39|   203.48| 13.91|\n",
      "| BRK-B|2020|  28|     183.1|   178.26|  4.84|\n",
      "|  MSFT|2021|  41|    302.34|   292.92|  9.42|\n",
      "|  MSFT|2020|  19|    184.98|   174.49| 10.49|\n",
      "| BRK-B|2019|  30|    208.37|   205.34|  3.03|\n",
      "|  MSFT|2019|  43|    139.39|   136.88|  2.51|\n",
      "|  MSFT|2021|  44|    338.51|   330.31|   8.2|\n",
      "|  MSFT|2019|   6|     107.0|   102.87|  4.13|\n",
      "|  MSFT|2022|  10|    288.53|    277.8| 10.73|\n",
      "| BRK-B|2019|  23|    204.95|   197.62|  7.33|\n",
      "+------+----+----+----------+---------+------+\n",
      "only showing top 20 rows\n",
      "\n"
     ]
    }
   ],
   "source": [
    "Weekly.withColumn(\"Spread\", F.round((Weekly.WeeklyHigh - Weekly.WeeklyLow) , 2 )).show()"
   ]
  },
  {
   "cell_type": "code",
   "execution_count": 53,
   "id": "eb81a8cb",
   "metadata": {},
   "outputs": [
    {
     "name": "stderr",
     "output_type": "stream",
     "text": [
      "                                                                                \r"
     ]
    },
    {
     "name": "stdout",
     "output_type": "stream",
     "text": [
      "+------+----------+------+-------+------+------+------+----+-----+---+----+------+----+----------+---------+\n",
      "|Ticker|      Date| Close| Volume|  Open|  High|   Low|Year|Month|Day|Week|Ticker|Year|YearlyHigh|YearlyLow|\n",
      "+------+----------+------+-------+------+------+------+----+-----+---+----+------+----+----------+---------+\n",
      "| BRK-B|2023-05-31|321.08|6175417|321.12|322.41|319.39|2023|    5| 31|  22| BRK-B|2023|     331.0|   294.68|\n",
      "| BRK-B|2023-05-30|322.19|3232461|321.86|322.47| 319.0|2023|    5| 30|  22| BRK-B|2023|     331.0|   294.68|\n",
      "| BRK-B|2023-05-26| 320.6|3229873|320.44|322.63|319.67|2023|    5| 26|  21| BRK-B|2023|     331.0|   294.68|\n",
      "| BRK-B|2023-05-25|319.02|4251935|320.56|320.56|317.71|2023|    5| 25|  21| BRK-B|2023|     331.0|   294.68|\n",
      "| BRK-B|2023-05-24| 320.2|3075393|322.71| 323.0|319.56|2023|    5| 24|  21| BRK-B|2023|     331.0|   294.68|\n",
      "| BRK-B|2023-05-23|323.11|4031342|328.19|329.27|322.97|2023|    5| 23|  21| BRK-B|2023|     331.0|   294.68|\n",
      "| BRK-B|2023-05-22|329.13|2763422|330.75|331.49|328.35|2023|    5| 22|  21| BRK-B|2023|     331.0|   294.68|\n",
      "| BRK-B|2023-05-19|330.39|4323538| 331.0|333.94|329.12|2023|    5| 19|  20| BRK-B|2023|     331.0|   294.68|\n",
      "| BRK-B|2023-05-18|329.76|2808329|326.87|329.98|325.85|2023|    5| 18|  20| BRK-B|2023|     331.0|   294.68|\n",
      "| BRK-B|2023-05-17|327.39|3047626|325.02|328.26|324.82|2023|    5| 17|  20| BRK-B|2023|     331.0|   294.68|\n",
      "| BRK-B|2023-05-16|323.75|2139996|322.46|324.69|322.36|2023|    5| 16|  20| BRK-B|2023|     331.0|   294.68|\n",
      "| BRK-B|2023-05-15|323.53|2191609|322.89|323.83|320.13|2023|    5| 15|  20| BRK-B|2023|     331.0|   294.68|\n",
      "| BRK-B|2023-05-12|322.49|1938264|323.82|324.24|320.54|2023|    5| 12|  19| BRK-B|2023|     331.0|   294.68|\n",
      "| BRK-B|2023-05-11|322.64|2549339| 321.0|322.96|319.81|2023|    5| 11|  19| BRK-B|2023|     331.0|   294.68|\n",
      "| BRK-B|2023-05-10|322.99|2641134|326.08|326.16|320.15|2023|    5| 10|  19| BRK-B|2023|     331.0|   294.68|\n",
      "| BRK-B|2023-05-09|324.87|2285924|324.87|326.88|323.48|2023|    5|  9|  19| BRK-B|2023|     331.0|   294.68|\n",
      "| BRK-B|2023-05-08|326.14|3303393|328.26|330.69|325.79|2023|    5|  8|  19| BRK-B|2023|     331.0|   294.68|\n",
      "| BRK-B|2023-05-05|323.88|3876299|323.36|325.16|322.62|2023|    5|  5|  18| BRK-B|2023|     331.0|   294.68|\n",
      "| BRK-B|2023-05-04| 320.0|3194768|323.44|325.99|317.41|2023|    5|  4|  18| BRK-B|2023|     331.0|   294.68|\n",
      "| BRK-B|2023-05-03|323.22|2660456|327.13|328.07|323.06|2023|    5|  3|  18| BRK-B|2023|     331.0|   294.68|\n",
      "+------+----------+------+-------+------+------+------+----+-----+---+----+------+----+----------+---------+\n",
      "only showing top 20 rows\n",
      "\n"
     ]
    }
   ],
   "source": [
    "cleaned_stocks.join(Yearly,\n",
    "                   (cleaned_stocks.Year == Yearly.Year) &\n",
    "                   (cleaned_stocks.Ticker == Yearly.Ticker),\n",
    "                    \"Inner\"\n",
    "                   ).show()"
   ]
  },
  {
   "cell_type": "code",
   "execution_count": 73,
   "id": "19ef0868",
   "metadata": {},
   "outputs": [],
   "source": [
    "historic_stocks = cleaned_stocks.join(Yearly,\n",
    "                                      (cleaned_stocks.Ticker == Yearly.Ticker) &\n",
    "                                      (cleaned_stocks.Year == Yearly.Year)\n",
    "                                     ).drop(Yearly.Ticker, Yearly.Year)"
   ]
  },
  {
   "cell_type": "code",
   "execution_count": 74,
   "id": "91257f61",
   "metadata": {},
   "outputs": [
    {
     "name": "stderr",
     "output_type": "stream",
     "text": [
      "                                                                                \r"
     ]
    },
    {
     "name": "stdout",
     "output_type": "stream",
     "text": [
      "+----------+------+-------+------+------+------+-----+---+----+------+----+----------+---------+\n",
      "|      Date| Close| Volume|  Open|  High|   Low|Month|Day|Week|Ticker|Year|YearlyHigh|YearlyLow|\n",
      "+----------+------+-------+------+------+------+-----+---+----+------+----+----------+---------+\n",
      "|2023-05-31|321.08|6175417|321.12|322.41|319.39|    5| 31|  22| BRK-B|2023|     331.0|   294.68|\n",
      "|2023-05-30|322.19|3232461|321.86|322.47| 319.0|    5| 30|  22| BRK-B|2023|     331.0|   294.68|\n",
      "|2023-05-26| 320.6|3229873|320.44|322.63|319.67|    5| 26|  21| BRK-B|2023|     331.0|   294.68|\n",
      "|2023-05-25|319.02|4251935|320.56|320.56|317.71|    5| 25|  21| BRK-B|2023|     331.0|   294.68|\n",
      "|2023-05-24| 320.2|3075393|322.71| 323.0|319.56|    5| 24|  21| BRK-B|2023|     331.0|   294.68|\n",
      "|2023-05-23|323.11|4031342|328.19|329.27|322.97|    5| 23|  21| BRK-B|2023|     331.0|   294.68|\n",
      "|2023-05-22|329.13|2763422|330.75|331.49|328.35|    5| 22|  21| BRK-B|2023|     331.0|   294.68|\n",
      "|2023-05-19|330.39|4323538| 331.0|333.94|329.12|    5| 19|  20| BRK-B|2023|     331.0|   294.68|\n",
      "|2023-05-18|329.76|2808329|326.87|329.98|325.85|    5| 18|  20| BRK-B|2023|     331.0|   294.68|\n",
      "|2023-05-17|327.39|3047626|325.02|328.26|324.82|    5| 17|  20| BRK-B|2023|     331.0|   294.68|\n",
      "|2023-05-16|323.75|2139996|322.46|324.69|322.36|    5| 16|  20| BRK-B|2023|     331.0|   294.68|\n",
      "|2023-05-15|323.53|2191609|322.89|323.83|320.13|    5| 15|  20| BRK-B|2023|     331.0|   294.68|\n",
      "|2023-05-12|322.49|1938264|323.82|324.24|320.54|    5| 12|  19| BRK-B|2023|     331.0|   294.68|\n",
      "|2023-05-11|322.64|2549339| 321.0|322.96|319.81|    5| 11|  19| BRK-B|2023|     331.0|   294.68|\n",
      "|2023-05-10|322.99|2641134|326.08|326.16|320.15|    5| 10|  19| BRK-B|2023|     331.0|   294.68|\n",
      "|2023-05-09|324.87|2285924|324.87|326.88|323.48|    5|  9|  19| BRK-B|2023|     331.0|   294.68|\n",
      "|2023-05-08|326.14|3303393|328.26|330.69|325.79|    5|  8|  19| BRK-B|2023|     331.0|   294.68|\n",
      "|2023-05-05|323.88|3876299|323.36|325.16|322.62|    5|  5|  18| BRK-B|2023|     331.0|   294.68|\n",
      "|2023-05-04| 320.0|3194768|323.44|325.99|317.41|    5|  4|  18| BRK-B|2023|     331.0|   294.68|\n",
      "|2023-05-03|323.22|2660456|327.13|328.07|323.06|    5|  3|  18| BRK-B|2023|     331.0|   294.68|\n",
      "+----------+------+-------+------+------+------+-----+---+----+------+----+----------+---------+\n",
      "only showing top 20 rows\n",
      "\n"
     ]
    }
   ],
   "source": [
    "historic_stocks.show()"
   ]
  },
  {
   "cell_type": "code",
   "execution_count": 75,
   "id": "9646df04",
   "metadata": {},
   "outputs": [],
   "source": [
    "historic_stocks =  historic_stocks.join(Weekly, [\"Week\",\"Ticker\",\"Year\"])"
   ]
  },
  {
   "cell_type": "code",
   "execution_count": 76,
   "id": "79a00de0",
   "metadata": {},
   "outputs": [
    {
     "name": "stderr",
     "output_type": "stream",
     "text": [
      "                                                                                \r"
     ]
    },
    {
     "name": "stdout",
     "output_type": "stream",
     "text": [
      "+----+------+----+----------+------+-------+------+------+------+-----+---+----------+---------+----------+---------+\n",
      "|Week|Ticker|Year|      Date| Close| Volume|  Open|  High|   Low|Month|Day|YearlyHigh|YearlyLow|WeeklyHigh|WeeklyLow|\n",
      "+----+------+----+----------+------+-------+------+------+------+-----+---+----------+---------+----------+---------+\n",
      "|  22| BRK-B|2023|2023-05-31|321.08|6175417|321.12|322.41|319.39|    5| 31|     331.0|   294.68|    321.86|   321.12|\n",
      "|  22| BRK-B|2023|2023-05-30|322.19|3232461|321.86|322.47| 319.0|    5| 30|     331.0|   294.68|    321.86|   321.12|\n",
      "|  21| BRK-B|2023|2023-05-26| 320.6|3229873|320.44|322.63|319.67|    5| 26|     331.0|   294.68|    330.75|   320.44|\n",
      "|  21| BRK-B|2023|2023-05-25|319.02|4251935|320.56|320.56|317.71|    5| 25|     331.0|   294.68|    330.75|   320.44|\n",
      "|  21| BRK-B|2023|2023-05-24| 320.2|3075393|322.71| 323.0|319.56|    5| 24|     331.0|   294.68|    330.75|   320.44|\n",
      "|  21| BRK-B|2023|2023-05-23|323.11|4031342|328.19|329.27|322.97|    5| 23|     331.0|   294.68|    330.75|   320.44|\n",
      "|  21| BRK-B|2023|2023-05-22|329.13|2763422|330.75|331.49|328.35|    5| 22|     331.0|   294.68|    330.75|   320.44|\n",
      "|  20| BRK-B|2023|2023-05-19|330.39|4323538| 331.0|333.94|329.12|    5| 19|     331.0|   294.68|     331.0|   322.46|\n",
      "|  20| BRK-B|2023|2023-05-18|329.76|2808329|326.87|329.98|325.85|    5| 18|     331.0|   294.68|     331.0|   322.46|\n",
      "|  20| BRK-B|2023|2023-05-17|327.39|3047626|325.02|328.26|324.82|    5| 17|     331.0|   294.68|     331.0|   322.46|\n",
      "|  20| BRK-B|2023|2023-05-16|323.75|2139996|322.46|324.69|322.36|    5| 16|     331.0|   294.68|     331.0|   322.46|\n",
      "|  20| BRK-B|2023|2023-05-15|323.53|2191609|322.89|323.83|320.13|    5| 15|     331.0|   294.68|     331.0|   322.46|\n",
      "|  19| BRK-B|2023|2023-05-12|322.49|1938264|323.82|324.24|320.54|    5| 12|     331.0|   294.68|    328.26|    321.0|\n",
      "|  19| BRK-B|2023|2023-05-11|322.64|2549339| 321.0|322.96|319.81|    5| 11|     331.0|   294.68|    328.26|    321.0|\n",
      "|  19| BRK-B|2023|2023-05-10|322.99|2641134|326.08|326.16|320.15|    5| 10|     331.0|   294.68|    328.26|    321.0|\n",
      "|  19| BRK-B|2023|2023-05-09|324.87|2285924|324.87|326.88|323.48|    5|  9|     331.0|   294.68|    328.26|    321.0|\n",
      "|  19| BRK-B|2023|2023-05-08|326.14|3303393|328.26|330.69|325.79|    5|  8|     331.0|   294.68|    328.26|    321.0|\n",
      "|  18| BRK-B|2023|2023-05-05|323.88|3876299|323.36|325.16|322.62|    5|  5|     331.0|   294.68|    330.15|   323.36|\n",
      "|  18| BRK-B|2023|2023-05-04| 320.0|3194768|323.44|325.99|317.41|    5|  4|     331.0|   294.68|    330.15|   323.36|\n",
      "|  18| BRK-B|2023|2023-05-03|323.22|2660456|327.13|328.07|323.06|    5|  3|     331.0|   294.68|    330.15|   323.36|\n",
      "+----+------+----+----------+------+-------+------+------+------+-----+---+----------+---------+----------+---------+\n",
      "only showing top 20 rows\n",
      "\n"
     ]
    }
   ],
   "source": [
    "historic_stocks.show()"
   ]
  },
  {
   "cell_type": "code",
   "execution_count": 81,
   "id": "a1885a67",
   "metadata": {},
   "outputs": [],
   "source": [
    "cdn = [(historic_stocks.Year == Monthly.Year) & (historic_stocks.Month == Monthly.Month) & (historic_stocks.Ticker == Monthly.Ticker)]\n",
    "historic_stocks = historic_stocks.join(Monthly,cdn,\"Inner\").drop(historic_stocks.Ticker, historic_stocks.Month, historic_stocks.Year)                                    \n",
    "                                             "
   ]
  },
  {
   "cell_type": "code",
   "execution_count": 82,
   "id": "2c6ac739",
   "metadata": {},
   "outputs": [
    {
     "name": "stderr",
     "output_type": "stream",
     "text": [
      "                                                                                \r"
     ]
    },
    {
     "name": "stdout",
     "output_type": "stream",
     "text": [
      "+----+----------+------+-------+------+------+------+---+----------+---------+----------+---------+------+----+-----+-----------+----------+\n",
      "|Week|      Date| Close| Volume|  Open|  High|   Low|Day|YearlyHigh|YearlyLow|WeeklyHigh|WeeklyLow|Ticker|Year|Month|MonthlyHigh|MonthlyLow|\n",
      "+----+----------+------+-------+------+------+------+---+----------+---------+----------+---------+------+----+-----+-----------+----------+\n",
      "|  22|2023-05-31|321.08|6175417|321.12|322.41|319.39| 31|     331.0|   294.68|    321.86|   321.12| BRK-B|2023|    5|      331.0|    320.44|\n",
      "|  22|2023-05-30|322.19|3232461|321.86|322.47| 319.0| 30|     331.0|   294.68|    321.86|   321.12| BRK-B|2023|    5|      331.0|    320.44|\n",
      "|  21|2023-05-26| 320.6|3229873|320.44|322.63|319.67| 26|     331.0|   294.68|    330.75|   320.44| BRK-B|2023|    5|      331.0|    320.44|\n",
      "|  21|2023-05-25|319.02|4251935|320.56|320.56|317.71| 25|     331.0|   294.68|    330.75|   320.44| BRK-B|2023|    5|      331.0|    320.44|\n",
      "|  21|2023-05-24| 320.2|3075393|322.71| 323.0|319.56| 24|     331.0|   294.68|    330.75|   320.44| BRK-B|2023|    5|      331.0|    320.44|\n",
      "|  21|2023-05-23|323.11|4031342|328.19|329.27|322.97| 23|     331.0|   294.68|    330.75|   320.44| BRK-B|2023|    5|      331.0|    320.44|\n",
      "|  21|2023-05-22|329.13|2763422|330.75|331.49|328.35| 22|     331.0|   294.68|    330.75|   320.44| BRK-B|2023|    5|      331.0|    320.44|\n",
      "|  20|2023-05-19|330.39|4323538| 331.0|333.94|329.12| 19|     331.0|   294.68|     331.0|   322.46| BRK-B|2023|    5|      331.0|    320.44|\n",
      "|  20|2023-05-18|329.76|2808329|326.87|329.98|325.85| 18|     331.0|   294.68|     331.0|   322.46| BRK-B|2023|    5|      331.0|    320.44|\n",
      "|  20|2023-05-17|327.39|3047626|325.02|328.26|324.82| 17|     331.0|   294.68|     331.0|   322.46| BRK-B|2023|    5|      331.0|    320.44|\n",
      "|  20|2023-05-16|323.75|2139996|322.46|324.69|322.36| 16|     331.0|   294.68|     331.0|   322.46| BRK-B|2023|    5|      331.0|    320.44|\n",
      "|  20|2023-05-15|323.53|2191609|322.89|323.83|320.13| 15|     331.0|   294.68|     331.0|   322.46| BRK-B|2023|    5|      331.0|    320.44|\n",
      "|  19|2023-05-12|322.49|1938264|323.82|324.24|320.54| 12|     331.0|   294.68|    328.26|    321.0| BRK-B|2023|    5|      331.0|    320.44|\n",
      "|  19|2023-05-11|322.64|2549339| 321.0|322.96|319.81| 11|     331.0|   294.68|    328.26|    321.0| BRK-B|2023|    5|      331.0|    320.44|\n",
      "|  19|2023-05-10|322.99|2641134|326.08|326.16|320.15| 10|     331.0|   294.68|    328.26|    321.0| BRK-B|2023|    5|      331.0|    320.44|\n",
      "|  19|2023-05-09|324.87|2285924|324.87|326.88|323.48|  9|     331.0|   294.68|    328.26|    321.0| BRK-B|2023|    5|      331.0|    320.44|\n",
      "|  19|2023-05-08|326.14|3303393|328.26|330.69|325.79|  8|     331.0|   294.68|    328.26|    321.0| BRK-B|2023|    5|      331.0|    320.44|\n",
      "|  18|2023-05-05|323.88|3876299|323.36|325.16|322.62|  5|     331.0|   294.68|    330.15|   323.36| BRK-B|2023|    5|      331.0|    320.44|\n",
      "|  18|2023-05-04| 320.0|3194768|323.44|325.99|317.41|  4|     331.0|   294.68|    330.15|   323.36| BRK-B|2023|    5|      331.0|    320.44|\n",
      "|  18|2023-05-03|323.22|2660456|327.13|328.07|323.06|  3|     331.0|   294.68|    330.15|   323.36| BRK-B|2023|    5|      331.0|    320.44|\n",
      "+----+----------+------+-------+------+------+------+---+----------+---------+----------+---------+------+----+-----+-----------+----------+\n",
      "only showing top 20 rows\n",
      "\n"
     ]
    }
   ],
   "source": [
    "historic_stocks.show()"
   ]
  },
  {
   "cell_type": "code",
   "execution_count": 83,
   "id": "67d45491",
   "metadata": {
    "scrolled": true
   },
   "outputs": [
    {
     "data": {
      "text/plain": [
       "['Week',\n",
       " 'Date',\n",
       " 'Close',\n",
       " 'Volume',\n",
       " 'Open',\n",
       " 'High',\n",
       " 'Low',\n",
       " 'Day',\n",
       " 'YearlyHigh',\n",
       " 'YearlyLow',\n",
       " 'WeeklyHigh',\n",
       " 'WeeklyLow',\n",
       " 'Ticker',\n",
       " 'Year',\n",
       " 'Month',\n",
       " 'MonthlyHigh',\n",
       " 'MonthlyLow']"
      ]
     },
     "execution_count": 83,
     "metadata": {},
     "output_type": "execute_result"
    }
   ],
   "source": [
    "historic_stocks.columns"
   ]
  },
  {
   "cell_type": "code",
   "execution_count": 84,
   "id": "83261d7b",
   "metadata": {},
   "outputs": [],
   "source": [
    "final_stocks = historic_stocks.select(['Ticker','Year','Month','Week','Day','Close','Volume','Open','High','Low','WeeklyHigh','WeeklyLow','MonthlyHigh','MonthlyLow','YearlyHigh','YearlyLow',])"
   ]
  },
  {
   "cell_type": "code",
   "execution_count": 86,
   "id": "b5112739",
   "metadata": {},
   "outputs": [
    {
     "name": "stderr",
     "output_type": "stream",
     "text": [
      "                                                                                \r"
     ]
    },
    {
     "name": "stdout",
     "output_type": "stream",
     "text": [
      "+------+----+-----+----+---+------+-------+------+------+------+----------+---------+-----------+----------+----------+---------+\n",
      "|Ticker|Year|Month|Week|Day| Close| Volume|  Open|  High|   Low|WeeklyHigh|WeeklyLow|MonthlyHigh|MonthlyLow|YearlyHigh|YearlyLow|\n",
      "+------+----+-----+----+---+------+-------+------+------+------+----------+---------+-----------+----------+----------+---------+\n",
      "| BRK-B|2023|    5|  22| 31|321.08|6175417|321.12|322.41|319.39|    321.86|   321.12|      331.0|    320.44|     331.0|   294.68|\n",
      "| BRK-B|2023|    5|  22| 30|322.19|3232461|321.86|322.47| 319.0|    321.86|   321.12|      331.0|    320.44|     331.0|   294.68|\n",
      "| BRK-B|2023|    5|  21| 26| 320.6|3229873|320.44|322.63|319.67|    330.75|   320.44|      331.0|    320.44|     331.0|   294.68|\n",
      "| BRK-B|2023|    5|  21| 25|319.02|4251935|320.56|320.56|317.71|    330.75|   320.44|      331.0|    320.44|     331.0|   294.68|\n",
      "| BRK-B|2023|    5|  21| 24| 320.2|3075393|322.71| 323.0|319.56|    330.75|   320.44|      331.0|    320.44|     331.0|   294.68|\n",
      "+------+----+-----+----+---+------+-------+------+------+------+----------+---------+-----------+----------+----------+---------+\n",
      "only showing top 5 rows\n",
      "\n"
     ]
    },
    {
     "name": "stderr",
     "output_type": "stream",
     "text": [
      "\r\n",
      "[Stage 147:>                                                        (0 + 1) / 1]\r\n",
      "\r\n",
      "                                                                                \r"
     ]
    }
   ],
   "source": [
    "final_stocks.show(5)"
   ]
  },
  {
   "cell_type": "code",
   "execution_count": 88,
   "id": "83461ba1",
   "metadata": {},
   "outputs": [],
   "source": [
    "final_stocks.createOrReplaceTempView(\"stocksData\")"
   ]
  },
  {
   "cell_type": "code",
   "execution_count": 91,
   "id": "73c1f0e3",
   "metadata": {},
   "outputs": [
    {
     "name": "stderr",
     "output_type": "stream",
     "text": [
      "                                                                                \r"
     ]
    },
    {
     "name": "stdout",
     "output_type": "stream",
     "text": [
      "+------+----+-----+----+---+------+--------+------+------+------+----------+---------+-----------+----------+----------+---------+\n",
      "|Ticker|Year|Month|Week|Day| Close|  Volume|  Open|  High|   Low|WeeklyHigh|WeeklyLow|MonthlyHigh|MonthlyLow|YearlyHigh|YearlyLow|\n",
      "+------+----+-----+----+---+------+--------+------+------+------+----------+---------+-----------+----------+----------+---------+\n",
      "|  MSFT|2023|    5|  22| 31|328.39|45950550|332.29|335.94|327.33|    335.23|   332.29|     335.23|    305.72|    335.23|    223.0|\n",
      "|  MSFT|2023|    5|  22| 30|331.21|29503070|335.23|335.74|330.52|    335.23|   332.29|     335.23|    305.72|    335.23|    223.0|\n",
      "|  MSFT|2023|    5|  21| 26|332.89|36630630|324.02| 333.4|323.88|    324.02|   314.73|     335.23|    305.72|    335.23|    223.0|\n",
      "+------+----+-----+----+---+------+--------+------+------+------+----------+---------+-----------+----------+----------+---------+\n",
      "only showing top 3 rows\n",
      "\n"
     ]
    }
   ],
   "source": [
    "spark.sql(\"SELECT * FROM stocksData where Ticker='MSFT' and Year='2023'\").show(3)"
   ]
  },
  {
   "cell_type": "code",
   "execution_count": 93,
   "id": "7faaed2f",
   "metadata": {},
   "outputs": [],
   "source": [
    "#Inner join\n",
    "# Outer join(Left, Right, Full)\n",
    "# Cross join\n",
    "# Self join\n",
    "# Natural join\n",
    "# Anti join\n",
    "# Semi join"
   ]
  },
  {
   "cell_type": "code",
   "execution_count": null,
   "id": "8d2bf823",
   "metadata": {},
   "outputs": [],
   "source": [
    "movingAverage = Window.partitionBy(\"Ticker\").orderBy(\"Date\").rowsBetween(-50,0)"
   ]
  },
  {
   "cell_type": "code",
   "execution_count": null,
   "id": "765b6903",
   "metadata": {},
   "outputs": [],
   "source": [
    "snapshot.withColumn(\"MA50\", func.avg(\"Open\").over(movingAverage)).show()"
   ]
  }
 ],
 "metadata": {
  "kernelspec": {
   "display_name": "Python 3 (ipykernel)",
   "language": "python",
   "name": "python3"
  },
  "language_info": {
   "codemirror_mode": {
    "name": "ipython",
    "version": 3
   },
   "file_extension": ".py",
   "mimetype": "text/x-python",
   "name": "python",
   "nbconvert_exporter": "python",
   "pygments_lexer": "ipython3",
   "version": "3.9.7"
  }
 },
 "nbformat": 4,
 "nbformat_minor": 5
}
